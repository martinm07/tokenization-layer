{
 "cells": [
  {
   "cell_type": "markdown",
   "metadata": {},
   "source": [
    "**Note, when viewing this file on GitHub, the MathJax (and other things) can be a little wonky /:**<br>\n",
    "**For better formatting, I suggest you read this file on Deepnote:**<br>\n",
    "<b><a href=\"https://deepnote.com/viewer/github/martinm07/tokenization-layer/blob/main/concept-explained.ipynb\">Read this file on Deepnote</a></b>"
   ]
  },
  {
   "cell_type": "code",
   "execution_count": 1,
   "metadata": {
    "cell_id": "00002-3a7a0aec-1bc4-4f78-a247-f711bf427c73",
    "deepnote_cell_type": "code",
    "deepnote_to_be_reexecuted": false,
    "execution_millis": 7207,
    "execution_start": 1627764030679,
    "is_code_hidden": false,
    "source_hash": "8b4f18bf",
    "tags": []
   },
   "outputs": [
    {
     "name": "stdout",
     "output_type": "stream",
     "text": [
      "TensorFlow version: 2.5.0\n"
     ]
    }
   ],
   "source": [
    "# General libraries\n",
    "import numpy as np\n",
    "import pandas as pd\n",
    "import seaborn as sns\n",
    "sns.set_style(\"whitegrid\")\n",
    "import matplotlib.pyplot as plt\n",
    "%matplotlib inline\n",
    "\n",
    "# ML & DL libraries\n",
    "import tensorflow as tf\n",
    "from tensorflow import keras\n",
    "print(f\"TensorFlow version: {tf.__version__}\")\n",
    "\n",
    "# Misc libraries\n",
    "import textwrap\n",
    "import re\n",
    "import string\n",
    "from copy import copy\n",
    "import time\n",
    "from IPython.display import clear_output\n",
    "import os\n",
    "from colorama import Fore"
   ]
  },
  {
   "cell_type": "code",
   "execution_count": 2,
   "metadata": {
    "cell_id": "00001-9a2773d5-8307-4d61-a735-2902b470589d",
    "deepnote_cell_type": "code",
    "deepnote_to_be_reexecuted": false,
    "execution_millis": 1,
    "execution_start": 1627765566923,
    "is_code_hidden": true,
    "source_hash": "56502f36",
    "tags": []
   },
   "outputs": [],
   "source": [
    "class color:\n",
    "    PURPLE = '\\033[95m'\n",
    "    CYAN = '\\033[96m'\n",
    "    DARKCYAN = '\\033[36m'\n",
    "    BLUE = '\\033[94m'\n",
    "    GREEN = '\\033[92m'\n",
    "    YELLOW = '\\033[93m'\n",
    "    RED = '\\033[91m'\n",
    "    BOLD = '\\033[1m'\n",
    "    UNDERLINE = '\\033[4m'\n",
    "    END = '\\033[0m'"
   ]
  },
  {
   "cell_type": "markdown",
   "metadata": {
    "cell_id": "00001-bbfe47f6-ab84-4a69-8b8c-90be93270c41",
    "deepnote_cell_type": "markdown",
    "tags": []
   },
   "source": [
    "# Introduction"
   ]
  },
  {
   "cell_type": "markdown",
   "metadata": {
    "cell_id": "00000-bd4c6796-e88b-4eeb-8965-3d0ccff62e7d",
    "deepnote_cell_type": "markdown",
    "tags": []
   },
   "source": [
    "*Tokenization* is the first basic step in almost any natural language processing pipeline. Tokenization is the process of splitting up text into smaller chunks. We do this because for someone or something to see a brand new text (for example a book) and \"read\" it, they need to link it to stuff they've seen before and know the meaning of (e.g. words or phrases). Then, they build up the meaning of the text from there, *inferring* the meaning using the rules of natural language.<br>\n",
    "This \"*stuff they've seen before*\" is *tokens*. Tokens (for an algorithm) make up the building blocks of natural language. It's what they use to construct the meaning of any text, using the rules of natural language (which they have to learn).<br>\n",
    "So, as you can probably guess, tokenization is a vital part of the pipeline, and in this notebook, we will attempt a new kind of tokenization, training the tokenization algorithm like a layer in the neural network we want to have one for. Let's dive in."
   ]
  },
  {
   "cell_type": "markdown",
   "metadata": {
    "cell_id": "00001-36f11b4b-f43b-499d-b7fd-7168e09f293e",
    "deepnote_cell_type": "markdown",
    "tags": []
   },
   "source": [
    "The process of tokenization is *splitting up the text*, however we can think of it as \"finding tokens in the text\" too:"
   ]
  },
  {
   "cell_type": "code",
   "execution_count": 3,
   "metadata": {
    "cell_id": "00002-e2c0d055-3c48-482b-a83f-93df7ab99416",
    "deepnote_cell_type": "code",
    "deepnote_to_be_reexecuted": false,
    "execution_millis": 1,
    "execution_start": 1627764049672,
    "source_hash": "b5437f6e",
    "tags": []
   },
   "outputs": [],
   "source": [
    "example_text = 'Hello and welcome to this exquisite passage of text who\\'s solemn purpose is to act in place of a real piece of text, what is known as an \"example\".'\n",
    "tokens = [\"and\", \"to\", \"this\", \"is\", \"in\", \"of\", \"a\", \"as\", \"an\", \"place\", \"passage\", \"text\", \n",
    "          \"example\", \"known\", \"welcome\", \"purpose\"]"
   ]
  },
  {
   "cell_type": "code",
   "execution_count": 4,
   "metadata": {
    "cell_id": "00004-5d922cd0-44ab-472c-b990-c96c40950eca",
    "deepnote_cell_type": "code",
    "deepnote_to_be_reexecuted": false,
    "execution_millis": 4,
    "execution_start": 1627764050260,
    "source_hash": "12ed5faf",
    "tags": []
   },
   "outputs": [],
   "source": [
    "def tokenizer(tokens, text):\n",
    "    tokens_sorted = list(pd.Series([len(token) for token in tokens], index=tokens).sort_values(ascending=False).keys())\n",
    "    out = pd.Series(dtype=\"object\")\n",
    "    for token in tokens_sorted:\n",
    "        token_inds = [m.start() for m in re.finditer(re.escape(token), text)]\n",
    "        out = pd.concat([out, pd.Series(token, index=token_inds)])\n",
    "        text = text.replace(token, \" \".join([\"\" for _ in range(len(token)+1)]))\n",
    "    return list(out.sort_index().values)"
   ]
  },
  {
   "cell_type": "code",
   "execution_count": 5,
   "metadata": {
    "cell_id": "00008-a8aa9dae-7024-43c4-aac4-4df938075d9f",
    "deepnote_cell_type": "code",
    "deepnote_to_be_reexecuted": false,
    "execution_millis": 24,
    "execution_start": 1627764051121,
    "source_hash": "ac4ce4cc",
    "tags": []
   },
   "outputs": [],
   "source": [
    "example_text_tokenized = tokenizer(tokens, example_text)"
   ]
  },
  {
   "cell_type": "code",
   "execution_count": 6,
   "metadata": {
    "cell_id": "00005-20f648db-1cd3-42d1-b4f3-f44010cc76c4",
    "deepnote_cell_type": "code",
    "deepnote_to_be_reexecuted": false,
    "execution_millis": 22,
    "execution_start": 1627764051554,
    "is_code_hidden": true,
    "source_hash": "40f971ea",
    "tags": [
     "hide-input"
    ]
   },
   "outputs": [
    {
     "name": "stdout",
     "output_type": "stream",
     "text": [
      "\u001b[34mTokenizes the text\u001b[39m\n",
      "Hello and welcome to this exquisite passage of text who's solemn purpose is to act in place of a real piece of text,\n",
      "what is known as an \"example\".\n",
      "\u001b[34minto:\u001b[39m\n",
      "['and', 'welcome', 'to', 'this', 'is', 'passage', 'of', 'text', 'purpose', 'is', 'to', 'a', 'in', 'place', 'of', 'a',\n",
      "'a', 'of', 'text', 'a', 'is', 'known', 'as', 'an', 'example']\n",
      "\u001b[34mUsing the tokens:\u001b[39m\n",
      "['and', 'to', 'this', 'is', 'in', 'of', 'a', 'as', 'an', 'place', 'passage', 'text', 'example', 'known', 'welcome',\n",
      "'purpose']\n"
     ]
    }
   ],
   "source": [
    "print(Fore.BLUE+\"Tokenizes the text\"+Fore.RESET)\n",
    "for line in textwrap.wrap(example_text, width=118):\n",
    "    print(line)\n",
    "print(Fore.BLUE+\"into:\"+Fore.RESET)\n",
    "for line in textwrap.wrap(str(example_text_tokenized), width=118):\n",
    "    print(line)\n",
    "print(Fore.BLUE+\"Using the tokens:\"+Fore.RESET)\n",
    "for line in textwrap.wrap(str(tokens), width=118):\n",
    "    print(line)"
   ]
  },
  {
   "cell_type": "markdown",
   "metadata": {
    "cell_id": "00006-a3072e32-8aef-41fd-af8e-be35a608ab66",
    "deepnote_cell_type": "markdown",
    "tags": []
   },
   "source": [
    "This is an easier way of thinking about it when dealing with more complex tokenization (i.e. more than \"split by the whitespace\").<br>\n",
    "Now, this is like a function, which, using a list of tokens, can take in some text and tokenize it using the tokens. To do that we just need a list of tokens to use. Actually getting such a list is the meat of the problem."
   ]
  },
  {
   "cell_type": "markdown",
   "metadata": {
    "cell_id": "00008-013ab1df-0140-4987-8e2e-52bc56b50219",
    "deepnote_cell_type": "markdown",
    "tags": []
   },
   "source": [
    "One possible way of doing this is to try optimize a list of (intially random) tokens. To do this we could actually make a \"tokenization layer\", that goes at the frony of a neural network trying to solve some NLP task (and subsequently needs tokens). Then, the list of tokens trains along with the rest of the network. Let's define this layer."
   ]
  },
  {
   "cell_type": "markdown",
   "metadata": {
    "cell_id": "00009-23d968d5-6e11-448e-806f-6414c25fb600",
    "deepnote_cell_type": "markdown",
    "tags": []
   },
   "source": [
    "# Defining the Neuron"
   ]
  },
  {
   "cell_type": "markdown",
   "metadata": {
    "cell_id": "00010-6dcebfd5-d6ad-41d8-a6a2-9b3baf760724",
    "deepnote_cell_type": "markdown",
    "tags": []
   },
   "source": [
    "The tokenization neuron is made up of a pattern, and a signature (named \"out\"). When it takes in an input, it looks for matches of the pattern in the input, and then returns it's signature, \"out\", at these matches, with $0$ everywhere else to make it the same length as the input.<br>\n",
    "The input of this neuron would be one-hot encoded, having the shape `(num_categories, sequence_len)`. Typically, the input would be the text input of the neural network you're trying to train, and it would be one-hot encoded as characters, so `num_categories` is the number of different characters in the text. The neuron's pattern is then also the same scheme, having shape `(num_categories, pattern_len)`."
   ]
  },
  {
   "cell_type": "markdown",
   "metadata": {
    "cell_id": "00011-e72a0c13-3a19-4644-8ac1-e9fac296d0ea",
    "deepnote_cell_type": "markdown",
    "tags": []
   },
   "source": [
    "### Let's look at an example"
   ]
  },
  {
   "cell_type": "markdown",
   "metadata": {
    "cell_id": "00012-28c2bfdd-2a8a-40f8-ba81-91f903e0cc63",
    "deepnote_cell_type": "markdown",
    "tags": []
   },
   "source": [
    "Firstly, we have our text data we want to feed our neuron:\n",
    "$$\n",
    "\\text{text = \"a bad cab\"}\n",
    "$$\n",
    "We need to one-hot encode it first:\n",
    "$$\n",
    "\\text{\"a\"}=\n",
    "\\begin{bmatrix} \n",
    "1 \\\\ \n",
    "0 \\\\ \n",
    "0 \\\\ \n",
    "0 \\\\ \n",
    "0 \n",
    "\\end{bmatrix} \n",
    "\\text{, \"b\"}=\n",
    "\\begin{bmatrix} \n",
    "0 \\\\ \n",
    "1 \\\\ \n",
    "0 \\\\ \n",
    "0 \\\\ \n",
    "0 \n",
    "\\end{bmatrix} \n",
    "\\text{, \"c\"}=\n",
    "\\begin{bmatrix} \n",
    "0 \\\\ \n",
    "0 \\\\ \n",
    "1 \\\\ \n",
    "0 \\\\ \n",
    "0 \n",
    "\\end{bmatrix} \n",
    "\\text{, \"d\"}=\n",
    "\\begin{bmatrix} \n",
    "0 \\\\ \n",
    "0 \\\\ \n",
    "0 \\\\ \n",
    "1 \\\\ \n",
    "0 \n",
    "\\end{bmatrix} \n",
    "\\text{, \" \"}=\n",
    "\\begin{bmatrix} \n",
    "0 \\\\ \n",
    "0 \\\\ \n",
    "0 \\\\ \n",
    "0 \\\\ \n",
    "1 \n",
    "\\end{bmatrix}\n",
    "$$\n",
    "\n",
    "$$\n",
    "\\text{text}=\\begin{bmatrix} 1&0&0&1&0&0&0&1&0 \\\\ 0&0&1&0&0&0&0&0&1 \\\\ 0&0&0&0&0&0&1&0&0 \\\\ 0&0&0&0&1&0&0&0&0 \\\\ 0&1&0&0&0&1&0&0&0 \\end{bmatrix}\n",
    "$$\n",
    "Now, let's say our neuron's pattern and signature (\"out\") is:\n",
    "$$\n",
    "\\text{pattern} = \\begin{bmatrix} 0&1&0 \\\\ 1&0&0 \\\\ 0&0&0 \\\\ 0&0&1 \\\\ 0&0&0 \\end{bmatrix} \n",
    "\\text{, out} = \\begin{bmatrix} 1 \\\\ 0 \\\\ 0 \\\\ 0 \\\\ 0 \\end{bmatrix}\n",
    "$$\n",
    "When our neuron gets the text input it returns:\n",
    "$$\n",
    "f(text, pattern, out) = \\text{return  }\n",
    "text\n",
    "\\text{  of 0s except with  }\n",
    "out\n",
    "\\text{  where  }\n",
    "pattern\n",
    "\\text{  in  }\n",
    "text\n",
    "$$\n",
    "\n",
    "$$\n",
    "f(\\text{text}, \\text{pattern}, \\text{out}) = \\begin{bmatrix} 0 & 0 & 1 & 0 & 0 & 0 & 0 & 0 & 0 \\\\ 0 & 0 & 0 & 0 & 0 & 0 & 0 & 0 & 0 \\\\ 0 & 0 & 0 & 0 & 0 & 0 & 0 & 0 & 0 \\\\ 0 & 0 & 0 & 0 & 0 & 0 & 0 & 0 & 0 \\\\ 0 & 0 & 0 & 0 & 0 & 0 & 0 & 0 & 0 \\end{bmatrix}\n",
    "$$"
   ]
  },
  {
   "cell_type": "markdown",
   "metadata": {
    "cell_id": "00013-7381d2a6-586b-4503-a9b6-08ee89ca6778",
    "deepnote_cell_type": "markdown",
    "tags": []
   },
   "source": [
    "# Defining the Layer"
   ]
  },
  {
   "cell_type": "markdown",
   "metadata": {
    "cell_id": "00014-0a280068-007b-4b5c-b339-67b7a7d6e1de",
    "deepnote_cell_type": "markdown",
    "tags": []
   },
   "source": [
    "Now, this is one neuron, how do we make a tokenization \"layer\"? Well, our layer is made up of a stack of neurons, each neuron has it's own $\\text{pattern}$ and $\\text{out}$, and all take in the same input. All the neurons individually output their own \"version\" of the text, all only keeping what the pattern recognized, signified by that neuron's $\\text{out}$, which will follow the same scheme as the input, having the shape `(num_neurons, 1)`, with $1$ at one index and $0$ at every other. This is so that, when getting the output of the layer itself, we can just add up (element-wise) the outputs of all the neurons.<br>\n",
    "Here's an example of what this layer would look like in practice (note that $f_n$ is the $n$th neuron, $p_n$ is the $n$th pattern, $o_n$ is the $n$th out and $t$ is the input text):"
   ]
  },
  {
   "cell_type": "markdown",
   "metadata": {},
   "source": [
    "$$\n",
    "f_1(t, p_1, o_1) = \\begin{bmatrix} 0 & 0 & 1 & 0 & 0 & 0 & 0 & 0 & 0 \\\\ 0 & 0 & 0 & 0 & 0 & 0 & 0 & 0 & 0 \\\\ 0 & 0 & 0 & 0 & 0 & 0 & 0 & 0 & 0 \\\\ 0 & 0 & 0 & 0 & 0 & 0 & 0 & 0 & 0 \\\\ 0 & 0 & 0 & 0 & 0 & 0 & 0 & 0 & 0 \\end{bmatrix}\n",
    ", f_2(t, p_2, o_2) = \\begin{bmatrix} 0 & 0 & 0 & 0 & 0 & 0 & 0 & 0 & 0 \\\\ 0 & 1 & 0 & 1 & 0 & 0 & 0 & 0 & 0 \\\\ 0 & 0 & 0 & 0 & 0 & 0 & 0 & 0 & 0 \\\\ 0 & 0 & 0 & 0 & 0 & 0 & 0 & 0 & 0 \\\\ 0 & 0 & 0 & 0 & 0 & 0 & 0 & 0 & 0 \\end{bmatrix}\n",
    ", f_3(t, p_3, o_3) = \\begin{bmatrix} 0 & 0 & 0 & 0 & 0 & 0 & 0 & 0 & 0 \\\\ 0 & 0 & 0 & 0 & 0 & 0 & 0 & 0 & 0 \\\\ 0 & 0 & 0 & 0 & 0 & 0 & 0 & 1 & 0 \\\\ 0 & 0 & 0 & 0 & 0 & 0 & 0 & 0 & 0 \\\\ 0 & 0 & 0 & 0 & 0 & 0 & 0 & 0 & 0 \\end{bmatrix}\n",
    "$$"
   ]
  },
  {
   "cell_type": "markdown",
   "metadata": {},
   "source": [
    "$$\n",
    ", f_4(t, p_4, o_4) = \\begin{bmatrix} 0 & 0 & 0 & 0 & 0 & 0 & 0 & 0 & 0 \\\\ 0 & 0 & 0 & 0 & 0 & 0 & 0 & 0 & 0 \\\\ 0 & 0 & 0 & 0 & 0 & 0 & 0 & 0 & 0 \\\\ 0 & 0 & 0 & 0 & 1 & 0 & 0 & 0 & 1 \\\\ 0 & 0 & 0 & 0 & 0 & 0 & 0 & 0 & 0 \\end{bmatrix}\n",
    ", f_5(t, p_5, o_5) =  \\begin{bmatrix} 0 & 0 & 1 & 0 & 0 & 0 & 0 & 0 & 0 \\\\ 0 & 0 & 0 & 0 & 0 & 0 & 0 & 0 & 0 \\\\ 0 & 0 & 0 & 0 & 0 & 0 & 0 & 0 & 0 \\\\ 0 & 0 & 0 & 0 & 0 & 0 & 0 & 0 & 0 \\\\ 1 & 0 & 0 & 0 & 0 & 0 & 0 & 0 & 0 \\end{bmatrix}\n",
    "$$"
   ]
  },
  {
   "cell_type": "markdown",
   "metadata": {
    "cell_id": "00015-61e49b22-affb-4779-b6b1-d319224afb5f",
    "deepnote_cell_type": "markdown",
    "tags": []
   },
   "source": [
    "$$\n",
    "\\text{layer output} = f_1(t, p_1, o_1) + f_2(t, p_2, o_2) + f_3(t, p_3, o_3) + f_4(t, p_4, o_4) + f_5(t, p_5, o_5) = \n",
    "\\begin{bmatrix}0 & 0 & 1 & 0 & 0 & 0 & 0 & 0 & 0 \\\\ 0 & 1 & 0 & 1 & 0 & 0 & 0 & 0 & 0 \\\\ 0 & 0 & 0 & 0 & 0 & 0 & 0 & 1 & 0 \\\\ 0 & 0 & 0 & 0 & 1 & 0 & 0 & 0 & 1 \\\\ 1 & 0 & 0 & 0 & 0 & 0 & 0 & 0 & 0\n",
    "\\end{bmatrix}\n",
    "$$"
   ]
  },
  {
   "cell_type": "markdown",
   "metadata": {
    "cell_id": "00016-4780907e-ed9f-48f4-bc94-0b652ad249ae",
    "deepnote_cell_type": "markdown",
    "tags": []
   },
   "source": [
    "You can imagine how this would work for a tokenization algorithm; the patterns are like tokens, and the layer output is a representation of the text with said tokens.<br>\n",
    "Now, while this is all well and good, we still need something if we want to *train* this; and that's the derivatives.<br>\n",
    "Neural networks are trained through a process called *gradient descent*, I won't go into the intuition but this requires the derivatives at different parts of the neural network. That means, to train this layer, we need to know it's *derivative*, which, is hard to do as it's not well mathematically defined. Luckily, we can mathematically define it."
   ]
  },
  {
   "cell_type": "markdown",
   "metadata": {
    "cell_id": "00017-97b76038-a0c0-4cb9-9a13-7602ee8a3030",
    "deepnote_cell_type": "markdown",
    "tags": []
   },
   "source": [
    "# Finding the Derivative"
   ]
  },
  {
   "cell_type": "markdown",
   "metadata": {
    "cell_id": "00018-2eb33b95-0106-4477-a82c-09eb318a226b",
    "deepnote_cell_type": "markdown",
    "tags": []
   },
   "source": [
    "This neuron is actually pretty similar to *convolutions* (from CNNs), and we can redefine our neuron to use them here.<br>\n",
    "Here's what the convolution operation actually is:"
   ]
  },
  {
   "cell_type": "markdown",
   "metadata": {},
   "source": [
    "$$\n",
    "\\begin{bmatrix}\n",
    "x_{11} & x_{12} & x_{13} \\\\\n",
    "x_{21} & x_{22} & x_{23} \\\\\n",
    "x_{31} & x_{32} & x_{33} \\\\\n",
    "\\end{bmatrix} * \n",
    "\\begin{bmatrix}\n",
    "f_{11} & f_{12} \\\\\n",
    "f_{21} & f_{22} \n",
    "\\end{bmatrix} = \n",
    "\\begin{bmatrix}\n",
    "o_{11} & o_{12} \\\\\n",
    "o_{21} & o_{22} \\\\\n",
    "\\end{bmatrix}\n",
    "$$"
   ]
  },
  {
   "cell_type": "markdown",
   "metadata": {},
   "source": [
    "$$o_{11} = f_{11}x_{11}+f_{12}x_{12}+f_{21}x_{21}+f_{22}x_{22}$$ $$o_{12} = f_{11}x_{12}+f_{12}x_{13}+f_{21}x_{22}+f_{22}x_{23}$$ $$o_{21} = f_{11}x_{21}+f_{12}x_{22}+f_{21}x_{31}+f_{22}x_{32}$$ $$o_{22} = f_{11}x_{22}+f_{12}x_{23}+f_{21}x_{32}+f_{22}x_{33}$$"
   ]
  },
  {
   "cell_type": "markdown",
   "metadata": {
    "cell_id": "00020-b04e917e-afa2-4ac8-b3f7-d6d930a7ecc6",
    "deepnote_cell_type": "markdown",
    "tags": []
   },
   "source": [
    "<img style=\"width: 60%; margin-left: 20%;\" src=\"https://miro.medium.com/max/1050/1*K7dINARev0NUB-HWp9mbwA.gif\">"
   ]
  },
  {
   "cell_type": "markdown",
   "metadata": {
    "cell_id": "00025-2bb34401-cf59-46f3-b72d-8a2df1e0fff3",
    "deepnote_cell_type": "markdown",
    "tags": []
   },
   "source": [
    "<p style=\"text-align: center;\"><i>Credit for GIF goes to (as far as I can tell) <a href=\"https://medium.com/@pavisj\">Pavithra Solai</a>, who also<br>has a <a href=\"https://medium.com/@pavisj/convolutions-and-backpropagations-46026a8f5d2c\">great article</a> for those getting started with convolutions.</i></p>"
   ]
  },
  {
   "cell_type": "markdown",
   "metadata": {
    "cell_id": "00021-138a66d5-c08c-4392-89d0-7fd4524fcddb",
    "deepnote_cell_type": "markdown",
    "tags": []
   },
   "source": [
    "As you can see, we simply \"slide\" the filter over the input, multiplying the values element-wise and adding them up at each step.<br>\n",
    "If we say our pattern is the filter $F$, and the input text is $X$, we get something similar to what we defined our neuron to be before. Let us see with an example:"
   ]
  },
  {
   "cell_type": "markdown",
   "metadata": {
    "cell_id": "00022-dac440aa-3ba4-4bfa-9ceb-7a5bfe5b85cf",
    "deepnote_cell_type": "markdown",
    "tags": []
   },
   "source": [
    "$$\n",
    "\\begin{bmatrix}\n",
    "1&0&0&1&0&0&0&1&0 \\\\\n",
    "0&0&1&0&0&0&0&0&1 \\\\\n",
    "0&0&0&0&0&0&1&0&0 \\\\\n",
    "0&0&0&0&1&0&0&0&0 \\\\\n",
    "0&1&0&0&0&1&0&0&0\n",
    "\\end{bmatrix} * \\begin{bmatrix}\n",
    "0&1&0 \\\\\n",
    "1&0&0 \\\\\n",
    "0&0&0 \\\\\n",
    "0&0&1 \\\\\n",
    "0&0&0\n",
    "\\end{bmatrix} = \\begin{bmatrix}\n",
    "0 & 0 & 3 & 0 & 0 & 0 & 1\n",
    "\\end{bmatrix}\n",
    "$$"
   ]
  },
  {
   "cell_type": "markdown",
   "metadata": {
    "cell_id": "00023-1bfe6f74-ae68-42da-9994-e66345a1a821",
    "deepnote_cell_type": "markdown",
    "tags": []
   },
   "source": [
    "Remebering what the output of this neuron should be, this is pretty close! Where the $3$ is here is where the neuron found a full match with the pattern (because all *three* letters in the pattern matched). So, we could re-define our neuron to be this:\n",
    "$$\n",
    "f(text, pattern, out) = \\frac{text * pattern}{len(pattern)} \\text{ with }out\\text{ where }== 1\n",
    "$$\n",
    "However, a lot of it is redundant (as we won't be changing $out$), so all we really have to optimize (i.e. get the derivative) for is:\n",
    "\n",
    "$$\n",
    "\\frac{text * pattern}{len(pattern)}\n",
    "$$"
   ]
  },
  {
   "cell_type": "markdown",
   "metadata": {
    "cell_id": "00024-82dc796f-ddd2-4b45-911d-c4242256a4d5",
    "deepnote_cell_type": "markdown",
    "tags": []
   },
   "source": [
    "You could see how optimizing $pattern$ in this version of the neuron would result in similar optimization in the actual version of forward propagation that we'll be using.<br>\n",
    "I won't go into the details of deriving the convolution (there's other places for that), so here would be the derivatives with respect to $pattern$ and $text$:"
   ]
  },
  {
   "cell_type": "markdown",
   "metadata": {},
   "source": [
    "$$\n",
    "\\frac{\\partial C}{\\partial pattern} = \\frac{\\partial C}{\\partial f} \\cdot \\frac{\\partial f}{\\partial pattern} = \\frac{\\partial C}{\\partial f} \\cdot \\frac{\\partial}{\\partial P}[\\frac{text * pattern}{len(pattern)}]\n",
    "$$"
   ]
  },
  {
   "cell_type": "markdown",
   "metadata": {},
   "source": [
    "$$\n",
    " = \\frac{text * \\frac{\\partial C}{\\partial f}}{len(pattern)}\n",
    "$$"
   ]
  },
  {
   "cell_type": "markdown",
   "metadata": {},
   "source": [
    "<br>\n",
    "\n",
    "$$\n",
    "\\frac{\\partial C}{\\partial text} = \\frac{\\partial C}{\\partial f} \\cdot \\frac{\\partial f}{\\partial text} = \\frac{\\partial C}{\\partial f} \\cdot \\frac{\\partial}{\\partial text}[\\frac{text * pattern}{len(pattern)}]\n",
    "$$"
   ]
  },
  {
   "cell_type": "markdown",
   "metadata": {
    "cell_id": "00025-226a8f70-95db-4d07-84fb-b4ea38433e8b",
    "deepnote_cell_type": "markdown",
    "tags": []
   },
   "source": [
    "$$\n",
    " = \\frac{pad(\\frac{\\partial C}{\\partial f}) * rot180(pattern)}{len(pattern)}\n",
    "$$"
   ]
  },
  {
   "cell_type": "markdown",
   "metadata": {
    "cell_id": "00026-485b545f-f68a-4b49-9216-849e3f4ff9bd",
    "deepnote_cell_type": "markdown",
    "tags": []
   },
   "source": [
    "Here, we're getting the derivative of the (theoretical) cost $C$ with respect to $pattern$ and $text$. By way of the chain rule, this is the same as $\\frac{\\partial C}{\\partial f} \\cdot \\frac{\\partial f}{\\partial \\text{parameter}}$, and from there we can get the derivatives."
   ]
  },
  {
   "cell_type": "markdown",
   "metadata": {
    "cell_id": "00028-b26a8e30-9179-427f-8eee-b8ae2bafb1fa",
    "deepnote_cell_type": "markdown",
    "tags": []
   },
   "source": [
    "# The Finer Details"
   ]
  },
  {
   "cell_type": "markdown",
   "metadata": {
    "cell_id": "00028-49e989db-396c-44c5-8a8f-a3334e22364b",
    "deepnote_cell_type": "markdown",
    "tags": []
   },
   "source": [
    "There are some problems with what we've discussed so far.<br>\n",
    "For one thing; *changing $pattern$*; we want to change $pattern$ as to minimize the cost (using gradient descent), however, gradient descent *expects* $pattern$ to be continuous (as in, it could be any real number), but $pattern$ is meant to be a one-hot encoding like the text! We can solve this by saying that what gradient descent is trying to optimize *is* continuous, let's call it $p_{\\text{intermediate}}$, and we derive $pattern$ from $p_{\\text{intermediate}}$ by saying that, for every column, the highest value is where there'll be the $1$, and everything else is $0$."
   ]
  },
  {
   "cell_type": "markdown",
   "metadata": {
    "cell_id": "00027-d30b5ba8-145f-4c97-89d3-7a1d1d29979a",
    "deepnote_cell_type": "markdown",
    "tags": []
   },
   "source": [
    "$$\n",
    "p_{\\text{intermediate}} = \\begin{bmatrix}\n",
    "0.93 & 0.18 & 0.38 \\\\\n",
    "0.49 & 0.79 & 0.80 \\\\\n",
    "0.76 & 0.85 & 0.13 \\\\\n",
    "0.82 & 0.65 & 0.16 \\\\\n",
    "0.83 & 0.42 & 0.08\n",
    "\\end{bmatrix} \\longmapsto p = \\begin{bmatrix}\n",
    "1 & 0 & 0 \\\\\n",
    "0 & 0 & 1 \\\\\n",
    "0 & 1 & 0 \\\\\n",
    "0 & 0 & 0 \\\\\n",
    "0 & 0 & 0 \\\\\n",
    "\\end{bmatrix}\n",
    "$$"
   ]
  },
  {
   "cell_type": "markdown",
   "metadata": {
    "cell_id": "00031-d7312eb8-c776-4221-8f94-6fcc9c53fbcf",
    "deepnote_cell_type": "markdown",
    "tags": []
   },
   "source": [
    "Additionally, we would also like the pattern to *not* contain characters in some places (i.e. columns of just $0$s). To do this, we can add an extra rule saying that \"if the sum of all the values in a column is less than (or equal to) $0$, then that column will not contain a character and just be $0$s\""
   ]
  },
  {
   "cell_type": "markdown",
   "metadata": {
    "cell_id": "00032-d1367e13-71da-43c5-ac2c-c4eac82c30de",
    "deepnote_cell_type": "markdown",
    "tags": []
   },
   "source": [
    "However, this creates another problem; it's now very easy for gradient descent to make no-character characters in tokens, perhaps *too* easy. We would like to control just how easy it is to make no-character characters, and to do that, we can simply multiply the gradient $\\partial C / \\partial P$ by $\\sigma (P)$, where"
   ]
  },
  {
   "cell_type": "markdown",
   "metadata": {
    "cell_id": "00033-ffa06288-83ef-494d-920f-e049d842588d",
    "deepnote_cell_type": "markdown",
    "tags": []
   },
   "source": [
    "$$\n",
    "\\sigma(x) = \\begin{cases}\n",
    "0 & x \\leq 0 \\\\\n",
    "\\frac{x^{\\left(-\\beta -1\\right)}}{\\left(1+x^{-\\beta}\\left(1-x\\right)^{\\beta}\\right)^{2}\\left(-x+1\\right)^{\\left(-\\beta +1\\right)}} & 0 < x < 1 \\\\\n",
    "0 & x \\geq 1 \\\\\n",
    "\\end{cases}\n",
    "$$"
   ]
  },
  {
   "cell_type": "markdown",
   "metadata": {
    "cell_id": "00034-8a6fdd10-8a05-4d86-b932-92c72e6bcdfd",
    "deepnote_cell_type": "markdown",
    "tags": []
   },
   "source": [
    "This is the graph of the function:"
   ]
  },
  {
   "cell_type": "code",
   "execution_count": 7,
   "metadata": {
    "cell_id": "00035-c60ee739-1d02-4846-b216-a6fa6cb2b100",
    "deepnote_cell_type": "code",
    "deepnote_to_be_reexecuted": false,
    "execution_millis": 552,
    "execution_start": 1627755195102,
    "is_code_hidden": true,
    "source_hash": "513165fd",
    "tags": [
     "hide-input"
    ]
   },
   "outputs": [
    {
     "data": {
      "image/png": "[encoded data removed]",
      "text/plain": [
       "<Figure size 1008x432 with 1 Axes>"
      ]
     },
     "metadata": {
      "needs_background": "light"
     },
     "output_type": "display_data"
    }
   ],
   "source": [
    "def sigma(x, b=3.0):\n",
    "    if x <= 0:\n",
    "        return 0.\n",
    "    elif x >= 1:\n",
    "        return 0.\n",
    "    else:\n",
    "        return (x**(-b-1)) / ((1 + x**(-b) * (1 - x)**b)**2 * (-x + 1)**(-b+1))\n",
    "\n",
    "vals = [sigma(x) for x in np.arange(-0.5, 1.5, 0.01)]\n",
    "\n",
    "plt.figure(figsize=(14, 6))\n",
    "plt.title(r\"$\\sigma (x)$ where $\\beta = 3.0$\", fontdict={\"fontsize\":15})\n",
    "plt.plot(np.arange(-0.5, 1.5, 0.01), vals);\n",
    "sns.despine(left=True, bottom=True)"
   ]
  },
  {
   "cell_type": "markdown",
   "metadata": {
    "cell_id": "00036-83a9e496-75d9-43f4-a5c4-631fb726c918",
    "deepnote_cell_type": "markdown",
    "tags": []
   },
   "source": [
    "With this, when a value $p \\in P$ approaches the two values it actually *can* be (i.e. $0$ or $1$), the gradient shrinks, slowing down updates and keeping $p$ within the range $(0,1)$. However we would like *some* negative values, and to do that we can add another controllable parameter $\\alpha$, where the range of $p$ is then $(\\alpha, 1)$:"
   ]
  },
  {
   "cell_type": "code",
   "execution_count": 8,
   "metadata": {
    "cell_id": "00037-80d3fbe9-97f5-49ab-a2fa-bed02600d522",
    "deepnote_cell_type": "code",
    "deepnote_to_be_reexecuted": false,
    "execution_millis": 329,
    "execution_start": 1627755956842,
    "is_code_hidden": true,
    "source_hash": "7ba6ee8e",
    "tags": [
     "hide-input"
    ]
   },
   "outputs": [
    {
     "data": {
      "image/png": "[encoded data removed]",
      "text/plain": [
       "<Figure size 1008x432 with 1 Axes>"
      ]
     },
     "metadata": {
      "needs_background": "light"
     },
     "output_type": "display_data"
    }
   ],
   "source": [
    "def bump_func_leaky(x, a=-0.2, b=3.0):\n",
    "    a = -a/(-a+1)\n",
    "    if x <= (-1/(1-a) + 1):\n",
    "        return 0.\n",
    "    elif x >= 1:\n",
    "        return 0.\n",
    "    else:\n",
    "        x = (1-a)*x + a\n",
    "        return (x**(-b-1)) / ((1 + x**(-b) * (1 - x)**b)**2 * (-x + 1)**(-b+1))\n",
    "\n",
    "vals = [bump_func_leaky(x) for x in np.arange(-0.5, 1.5, 0.01)]\n",
    "\n",
    "plt.figure(figsize=(14, 6))\n",
    "plt.title(r\"$\\sigma (x)$ where $\\beta = 3.0$ and $\\alpha = -0.2$\", fontdict={\"fontsize\":15})\n",
    "plt.plot(np.arange(-0.5, 1.5, 0.01), vals);\n",
    "sns.despine(left=True, bottom=True)"
   ]
  },
  {
   "cell_type": "markdown",
   "metadata": {
    "cell_id": "00028-26896209-e6e2-41d4-a50d-892dad35e0a0",
    "deepnote_cell_type": "markdown",
    "tags": []
   },
   "source": [
    "Okay, let's start doing some code."
   ]
  },
  {
   "cell_type": "markdown",
   "metadata": {
    "cell_id": "00029-f6646d07-4906-4b1e-904c-fe5d568851d2",
    "deepnote_cell_type": "markdown",
    "tags": []
   },
   "source": [
    "# Coding it Out"
   ]
  },
  {
   "cell_type": "markdown",
   "metadata": {
    "cell_id": "00030-38bcc5a3-cb37-469f-82a5-a2eb210b501f",
    "deepnote_cell_type": "markdown",
    "tags": []
   },
   "source": [
    "First thing's first, we need a natural language processing task that we would need tokenization for. Here, I pick the [IMDB Movie Reviews](https://www.kaggle.com/lakshmi25npathi/imdb-dataset-of-50k-movie-reviews) dataset (very *exotic*, I know), where we must predict if reviews were positive or negative towards the movie. Let's get the data and do some basic preprocessing:"
   ]
  },
  {
   "cell_type": "code",
   "execution_count": 9,
   "metadata": {
    "cell_id": "00029-d2f9cb44-bfa8-47d2-9b27-763663ed09a4",
    "deepnote_cell_type": "code",
    "deepnote_to_be_reexecuted": false,
    "execution_millis": 25534,
    "execution_start": 1627764066873,
    "source_hash": "86e97e33",
    "tags": []
   },
   "outputs": [
    {
     "name": "stdout",
     "output_type": "stream",
     "text": [
      "                                              review sentiment\n",
      "0  why did i waste my time with this movie there ...       0.0\n",
      "1  in the middle of the hole i emailed a friend o...       1.0\n",
      "2  the preposterous premise of this flick has to ...       0.0\n",
      "3  quite possibly the nicest woman in show busine...       0.0\n",
      "4  probably the only thing that got the movie up ...       0.0\n"
     ]
    }
   ],
   "source": [
    "data = pd.read_csv(\"IMDB Dataset.csv\")\n",
    "data = data.sample(len(data)).reset_index(drop=True)\n",
    "\n",
    "# Strip \"<br />\" tags and convert to lowercase\n",
    "data[\"review\"] = data[\"review\"].apply(lambda x: x.replace(\"<br />\", \" \").lower())\n",
    "# Strip punctuation\n",
    "data[\"review\"] = data[\"review\"].apply(lambda x: re.sub(f\"[{string.punctuation}]\", \"\", x))\n",
    "# Get top 30 most common characters\n",
    "chars = \"\".join(pd.Series(list(\" \".join(data[\"review\"].to_list()))).value_counts().keys()[:30])\n",
    "# Remove everything except the top 30 most common characters\n",
    "data[\"review\"] = data[\"review\"].apply(lambda x: re.sub(f\"[^{chars}]\", \"\", x))\n",
    "\n",
    "from sklearn.preprocessing import OrdinalEncoder\n",
    "data[[\"sentiment\"]] = OrdinalEncoder().fit_transform(data[[\"sentiment\"]])\n",
    "\n",
    "print(data.head())"
   ]
  },
  {
   "cell_type": "markdown",
   "metadata": {
    "cell_id": "00032-8770fd69-5505-42b8-8c64-1c55327368c8",
    "deepnote_cell_type": "markdown",
    "tags": []
   },
   "source": [
    "Now, let's split it into a train, test and validation set:"
   ]
  },
  {
   "cell_type": "code",
   "execution_count": 10,
   "metadata": {
    "cell_id": "00032-a8ecaaeb-37d3-4968-b649-7191fca8246a",
    "deepnote_cell_type": "code",
    "deepnote_to_be_reexecuted": false,
    "execution_millis": 7,
    "execution_start": 1627764092403,
    "source_hash": "746a4dbc",
    "tags": []
   },
   "outputs": [],
   "source": [
    "from sklearn.model_selection import train_test_split"
   ]
  },
  {
   "cell_type": "code",
   "execution_count": 11,
   "metadata": {
    "cell_id": "00034-b124aedc-3063-4b41-a39c-477f35cef2c4",
    "deepnote_cell_type": "code",
    "deepnote_to_be_reexecuted": false,
    "execution_millis": 48,
    "execution_start": 1627764092416,
    "source_hash": "bd54af24",
    "tags": []
   },
   "outputs": [],
   "source": [
    "X_train, X_val, y_train, y_val = train_test_split(data[\"review\"], data[\"sentiment\"], test_size=0.3, random_state=42)\n",
    "X_val, X_test, y_val, y_test = train_test_split(X_val, y_val, test_size=0.5, random_state=42)"
   ]
  },
  {
   "cell_type": "markdown",
   "metadata": {
    "cell_id": "00035-06b4c6f7-2f03-42fa-8124-2d1724eecf7c",
    "deepnote_cell_type": "markdown",
    "tags": []
   },
   "source": [
    "Finally, let's convert these to TensorFlow datasets and do the final preprocessing (i.e. one-hot encoding the characters and padding them to be the same length), as well as batching it to length 32:"
   ]
  },
  {
   "cell_type": "code",
   "execution_count": 12,
   "metadata": {
    "cell_id": "00035-cbc95153-41b1-4b84-a42f-3ee8c7933e14",
    "deepnote_cell_type": "code",
    "deepnote_to_be_reexecuted": false,
    "execution_millis": 2213,
    "execution_start": 1627764092478,
    "source_hash": "8e5bc0f8",
    "tags": [
     "hide-output"
    ]
   },
   "outputs": [
    {
     "name": "stdout",
     "output_type": "stream",
     "text": [
      "WARNING:tensorflow:From C:\\Users\\marti\\anaconda3\\envs\\pythongeneral\\lib\\site-packages\\tensorflow\\python\\util\\deprecation.py:602: calling map_fn_v2 (from tensorflow.python.ops.map_fn) with dtype is deprecated and will be removed in a future version.\n",
      "Instructions for updating:\n",
      "Use fn_output_signature instead\n",
      "(<tf.Tensor: shape=(30, 2000), dtype=float32, numpy=\n",
      "array([[0., 0., 0., ..., 0., 0., 0.],\n",
      "       [0., 0., 1., ..., 0., 0., 0.],\n",
      "       [0., 0., 0., ..., 0., 0., 0.],\n",
      "       ...,\n",
      "       [0., 0., 0., ..., 0., 0., 0.],\n",
      "       [0., 0., 0., ..., 0., 0., 0.],\n",
      "       [0., 0., 0., ..., 0., 0., 0.]], dtype=float32)>, <tf.Tensor: shape=(), dtype=float32, numpy=0.0>)\n",
      "(<tf.Tensor: shape=(30, 2000), dtype=float32, numpy=\n",
      "array([[0., 0., 0., ..., 0., 0., 0.],\n",
      "       [0., 0., 0., ..., 0., 0., 0.],\n",
      "       [0., 0., 0., ..., 0., 0., 0.],\n",
      "       ...,\n",
      "       [0., 0., 0., ..., 0., 0., 0.],\n",
      "       [0., 0., 0., ..., 0., 0., 0.],\n",
      "       [0., 0., 0., ..., 0., 0., 0.]], dtype=float32)>, <tf.Tensor: shape=(), dtype=float32, numpy=0.0>)\n",
      "(<tf.Tensor: shape=(30, 2000), dtype=float32, numpy=\n",
      "array([[0., 0., 0., ..., 0., 0., 0.],\n",
      "       [0., 0., 0., ..., 0., 0., 0.],\n",
      "       [0., 0., 1., ..., 0., 0., 0.],\n",
      "       ...,\n",
      "       [0., 0., 0., ..., 0., 0., 0.],\n",
      "       [0., 0., 0., ..., 0., 0., 0.],\n",
      "       [0., 0., 0., ..., 0., 0., 0.]], dtype=float32)>, <tf.Tensor: shape=(), dtype=float32, numpy=1.0>)\n"
     ]
    }
   ],
   "source": [
    "@tf.function\n",
    "# Encode characters into integers\n",
    "def ordinal_encode(x):\n",
    "    split = tf.strings.bytes_split(x)\n",
    "    chars_tensor = tf.constant(list(chars))\n",
    "    return tf.argmax(tf.map_fn(lambda x: chars_tensor==x, split, dtype=tf.bool), axis=1)\n",
    "\n",
    "# One-hot encode integers\n",
    "def onehot(x):\n",
    "    return tf.transpose(tf.one_hot(x, depth=len(chars)))\n",
    "\n",
    "# Clip and pad all reviews to be 2000 characters long\n",
    "def clip_and_pad(x):\n",
    "    output_length = 2000\n",
    "    shape = tf.shape(x)\n",
    "    if shape[1] >= output_length:\n",
    "        return x[:, :output_length]\n",
    "    else:\n",
    "        return tf.concat([x, tf.zeros((shape[0], output_length-shape[1]))], axis=1)\n",
    "\n",
    "X_train, X_val, X_test = tf.data.Dataset.from_tensor_slices(X_train), tf.data.Dataset.from_tensor_slices(X_val), tf.data.Dataset.from_tensor_slices(X_test)\n",
    "X_train, X_val, X_test = X_train.map(ordinal_encode).map(onehot).map(clip_and_pad), X_val.map(ordinal_encode).map(onehot).map(clip_and_pad), X_test.map(ordinal_encode).map(onehot).map(clip_and_pad)\n",
    "\n",
    "y_train, y_val, y_test = tf.data.Dataset.from_tensor_slices(np.asarray(y_train).astype('float32')), tf.data.Dataset.from_tensor_slices(np.asarray(y_val).astype('float32')), tf.data.Dataset.from_tensor_slices(np.asarray(y_test).astype('float32'))\n",
    "\n",
    "train_set, val_set, test_set = tf.data.Dataset.zip((X_train, y_train)), tf.data.Dataset.zip((X_val, y_val)), tf.data.Dataset.zip((X_test, y_test))\n",
    "for item in train_set.take(3):\n",
    "    print(item)\n",
    "\n",
    "train_set = train_set.shuffle(buffer_size=1000, seed=42, reshuffle_each_iteration=False) \\\n",
    "                     .batch(32, drop_remainder=True).prefetch(1)\n",
    "val_set = val_set.shuffle(buffer_size=1000, seed=42, reshuffle_each_iteration=False) \\\n",
    "                     .batch(32, drop_remainder=True).prefetch(1)\n",
    "test_set = test_set.shuffle(buffer_size=1000, seed=42, reshuffle_each_iteration=False) \\\n",
    "                     .batch(32, drop_remainder=True).prefetch(1)\n",
    "\n",
    "train_set = train_set.map(lambda x, y: (tf.expand_dims(x, 3), y))\n",
    "val_set = val_set.map(lambda x, y: (tf.expand_dims(x, 3), y))\n",
    "test_set = test_set.map(lambda x, y: (tf.expand_dims(x, 3), y))"
   ]
  },
  {
   "cell_type": "code",
   "execution_count": 13,
   "metadata": {},
   "outputs": [],
   "source": [
    "char_lookup = tf.concat([tf.constant([\"█\"]), tf.strings.bytes_split(tf.constant(chars))], axis=0)\n",
    "reverse_text = lambda x: tf.strings.join(tf.gather(char_lookup, tf.argmax(tf.concat([tf.fill([1, x.shape[1]], 0.5), x], axis=0), axis=0)))"
   ]
  },
  {
   "cell_type": "markdown",
   "metadata": {
    "cell_id": "00040-97ba113e-2cb7-4e58-8d71-ba3685586921",
    "deepnote_cell_type": "markdown",
    "tags": []
   },
   "source": [
    "Now, we need to figure out how to initialize the patterns for the tokenization layer.<br>\n",
    "There's many ways to do it, however, a *good* pattern probably appears many times in the $text$, so here I'll intialize $patterns$ by getting all the n-grams (with \"n\" being the length of the pattern) in a corpus of text, then I rank the grams by how common it was in the corpus, and finally choose a gram randomly (with higher-ranking grams having a higher probability). When encoding these grams, we can't just one-hot encode it, as our $\\sigma (x)$ (shown in the section \"The Finer Details\") we use when updating the patterns will make it so that $0$s and $1$s basically *never* update. So, instead, we one-hot encode it and say that zeros are instead values coming from a normal distribution with $\\sigma = 0.25$ and $\\mu = 0.08$ (i.e. mean and standard deviation), and ones are insead values coming from a normal distribution with $\\sigma = 0.75$ and $\\mu = 0.08$."
   ]
  },
  {
   "cell_type": "code",
   "execution_count": 14,
   "metadata": {
    "cell_id": "00041-210ad1e2-2574-47ab-8755-0d353fe365d4",
    "deepnote_cell_type": "code",
    "deepnote_to_be_reexecuted": false,
    "execution_millis": 44,
    "execution_start": 1627764094704,
    "source_hash": "b1ad4342",
    "tags": []
   },
   "outputs": [],
   "source": [
    "def gram_count_batch(gram_len=10, filter_over=1):\n",
    "    gram_text = lambda x: tf.strings.ngrams(tf.strings.bytes_split(x), gram_len, separator=\"\")\n",
    "    def return_func(x):\n",
    "        grammed_batch = tf.ragged.map_flat_values(gram_text, x)\n",
    "        flattened_batch = grammed_batch.merge_dims(0, -1)\n",
    "        y, idx, count = tf.unique_with_counts(flattened_batch)\n",
    "        filter_ = tf.squeeze(tf.where(count > filter_over), 1)\n",
    "        filtered_y = tf.gather(y, filter_)\n",
    "        filtered_count = tf.gather(count, filter_)\n",
    "        return (filtered_y, filtered_count)\n",
    "    return return_func\n",
    "\n",
    "def one_hot_str(string):\n",
    "    return tf.transpose(tf.map_fn(lambda x: tf.cast(tf.constant(list(chars))==x, tf.int32), \n",
    "                        tf.strings.bytes_split(string), fn_output_signature=tf.int32))"
   ]
  },
  {
   "cell_type": "code",
   "execution_count": 15,
   "metadata": {
    "cell_id": "00042-d49391da-4ec1-4cf3-9ad6-eaedf692a0fd",
    "deepnote_cell_type": "code",
    "deepnote_to_be_reexecuted": false,
    "execution_millis": 63,
    "execution_start": 1627764094748,
    "source_hash": "a9fcda8b",
    "tags": []
   },
   "outputs": [],
   "source": [
    "X_train, X_val, y_train, y_val = train_test_split(data[\"review\"], data[\"sentiment\"], test_size=0.3, random_state=42)\n",
    "X_val, X_test, y_val, y_test = train_test_split(X_val, y_val, test_size=0.5, random_state=42)\n",
    "X_train_data = tf.data.Dataset.from_tensor_slices(X_train)\n",
    "X_train_batched = X_train_data.batch(1000)"
   ]
  },
  {
   "cell_type": "code",
   "execution_count": 16,
   "metadata": {
    "cell_id": "00043-5ab92fc2-1bfc-4f71-a5e8-01932b47a18c",
    "deepnote_cell_type": "code",
    "deepnote_to_be_reexecuted": false,
    "execution_millis": 1,
    "execution_start": 1627764339087,
    "source_hash": "3b9eee6b",
    "tags": []
   },
   "outputs": [],
   "source": [
    "class PatternsInitilizerMaxCover(keras.initializers.Initializer):\n",
    "    # Provide a list of possible pattern lengths (as `gram_lens`), when making a pattern it \n",
    "    # randomly chooses a length for that pattern (with uniform probability) from `gram_lens`.\n",
    "    def __init__(self, gram_lens, filter_over=1):\n",
    "        self.all_grams_dict, self.probs_dict = {}, {}\n",
    "        self.gram_lens = gram_lens\n",
    "        # Find the unique grams and their frequenicies for all gram_lens provided\n",
    "        for gram_len in self.gram_lens:\n",
    "            # Get all unique grams and their counts (in batches, because all at once eats the RAM)\n",
    "            X_train_batch_counted = X_train_batched.map(gram_count_batch(gram_len=gram_len, filter_over=filter_over))\n",
    "            gram_counts_batched = []\n",
    "            for batch in X_train_batch_counted:\n",
    "                gram_counts_batched.append(batch)\n",
    "            df = pd.DataFrame(gram_counts_batched)\n",
    "            # Concatenate batches together\n",
    "            all_counts = tf.concat(df[1].to_list(), axis=0)\n",
    "            all_grams = tf.concat(df[0].to_list(), axis=0)\n",
    "            # Normalize the counts to get the \"probabilites\"\n",
    "            probs = tf.expand_dims(all_counts / tf.reduce_sum(all_counts), 0)\n",
    "            # Save the unique grams and their proabilities\n",
    "            self.all_grams_dict[gram_len], self.probs_dict[gram_len] = all_grams, probs\n",
    "    \n",
    "    def __call__(self, shape, **kwargs):\n",
    "        patterns = []\n",
    "        # For every tokenization neuron:\n",
    "        for neuron in range(shape[3]):\n",
    "            # Choose a length for the pattern at random\n",
    "            pattern_len = np.random.choice(self.gram_lens)\n",
    "            # Choose a random gram of specified `pattern_len`\n",
    "            pattern = tf.gather(self.all_grams_dict[pattern_len], tf.random.categorical(tf.math.log(self.probs_dict[pattern_len]), 1))[0, 0]\n",
    "            # One-hot encode, pad, and save pattern\n",
    "            pattern_onehot = tf.cast(one_hot_str(pattern), tf.float32)\n",
    "            padding = tf.zeros((pattern_onehot.shape[0], max(self.gram_lens)-pattern_len))\n",
    "            patterns.append(tf.concat([pattern_onehot, padding], axis=1))\n",
    "        # Concatenate patterns to make final tensor\n",
    "        patterns = tf.expand_dims(tf.transpose(tf.stack(patterns), [1, 2, 0]), 2)\n",
    "        # Replace 0s and 1s with random values from differnet distributions respectively\n",
    "        return tf.where(patterns==0., tf.random.normal(patterns.shape, mean=0.25, stddev=0.08),\n",
    "                                      tf.random.normal(patterns.shape, mean=0.75, stddev=0.08))\n",
    "    def get_config(self):\n",
    "        return {\"gram_len\": gram_len, \"filter_over\": filter_over}"
   ]
  },
  {
   "cell_type": "markdown",
   "metadata": {
    "cell_id": "00044-4ecbbc4f-9609-4e0b-9ba5-96d129f0f657",
    "deepnote_cell_type": "markdown",
    "tags": []
   },
   "source": [
    "As an example, here's some patterns this initialization makes (I made them only length 10 to save on compute):"
   ]
  },
  {
   "cell_type": "code",
   "execution_count": 17,
   "metadata": {
    "cell_id": "00044-135fb3db-6555-40ce-8a68-d41d5603ec38",
    "deepnote_cell_type": "code",
    "deepnote_to_be_reexecuted": false,
    "execution_millis": 39843,
    "execution_start": 1627764727475,
    "is_code_hidden": true,
    "source_hash": "905985ab",
    "tags": [
     "hide-input"
    ]
   },
   "outputs": [
    {
     "name": "stdout",
     "output_type": "stream",
     "text": [
      "WARNING:tensorflow:From C:\\Users\\marti\\anaconda3\\envs\\pythongeneral\\lib\\site-packages\\tensorflow\\python\\ops\\array_ops.py:5043: calling gather (from tensorflow.python.ops.array_ops) with validate_indices is deprecated and will be removed in a future version.\n",
      "Instructions for updating:\n",
      "The `validate_indices` argument has no effect. Indices are always validated on CPU and never validated on GPU.\n"
     ]
    },
    {
     "data": {
      "text/plain": [
       "<tf.Tensor: shape=(1, 100), dtype=string, numpy=\n",
       "array([[b'se people ', b' to the sc', b'll asleep ', b'lot elemen',\n",
       "        b' years old', b'e movie is', b'onstrated ', b'somewhere ',\n",
       "        b'ide from s', b'ey needed ', b'reenplay a', b' technique',\n",
       "        b'daptation ', b'me i think', b'roduction ', b'ast of the',\n",
       "        b' mini film', b'isnt anyth', b'tch the fi', b'e excellen',\n",
       "        b'his case i', b' it was hi', b'ing this m', b'ssible to ',\n",
       "        b'the photog', b'ose ends a', b'nd speakin', b'reality th',\n",
       "        b'r understa', b'acters tha', b'e kinds of', b'orking on ',\n",
       "        b'the script', b'n actor an', b'sterpiece ', b' brigante ',\n",
       "        b' dont unde', b'ason is be', b'cal christ', b'eaves with',\n",
       "        b'ound effec', b' humor tha', b'unusual th', b'in the ita',\n",
       "        b' of what i', b'ith the ma', b' scenes we', b't the rest',\n",
       "        b't see the ', b'ealistic t', b' several o', b'and someti',\n",
       "        b' to be one', b'at the ver', b'ing skills', b'worth watc',\n",
       "        b'tion to th', b'erspective', b'st movie t', b'there are ',\n",
       "        b't  anyway ', b'nce in the', b'e that she', b'ank accoun',\n",
       "        b'of the bes', b'way to the', b'ch makes t', b'r movies a',\n",
       "        b'ichael kea', b'ch has bee', b'nd the fac', b'n fbi agen',\n",
       "        b'eone who a', b'ck on trad', b' has all t', b'lieve this',\n",
       "        b' any movie', b'van damme ', b'hysterical', b'and compas',\n",
       "        b'back toget', b'e some kin', b'ng religio', b' the jewis',\n",
       "        b' does not ', b'clude the ', b'when you s', b'e it is al',\n",
       "        b'it is just', b'ount of ti', b'ie is grea', b'e girl who',\n",
       "        b' movie i h', b'onest with', b'especially', b'd because ',\n",
       "        b'd constant', b'yet anothe', b'rtaining i', b'oesnt take']],\n",
       "      dtype=object)>"
      ]
     },
     "execution_count": 17,
     "metadata": {},
     "output_type": "execute_result"
    }
   ],
   "source": [
    "gram_len, filter_over = 10, 1\n",
    "X_train_batch_counted = X_train_batched.map(gram_count_batch(gram_len=gram_len, filter_over=filter_over))\n",
    "gram_counts_batched = []\n",
    "for batch in X_train_batch_counted:\n",
    "    gram_counts_batched.append(batch)\n",
    "df = pd.DataFrame(gram_counts_batched)\n",
    "all_counts = tf.concat(df[1].to_list(), axis=0)\n",
    "all_grams = tf.concat(df[0].to_list(), axis=0)\n",
    "probs = tf.expand_dims(all_counts / tf.reduce_sum(all_counts), 0)\n",
    "tf.gather(all_grams, tf.random.categorical(tf.math.log(probs), 100))"
   ]
  },
  {
   "cell_type": "markdown",
   "metadata": {
    "cell_id": "00053-c39724c1-807e-448a-910c-81a948acf103",
    "deepnote_cell_type": "markdown",
    "tags": []
   },
   "source": [
    "Then, let's define $\\sigma (x)$:"
   ]
  },
  {
   "cell_type": "code",
   "execution_count": 18,
   "metadata": {
    "cell_id": "00053-a1073060-a58d-4a10-b7c3-32f996bc4e2d",
    "deepnote_cell_type": "code",
    "deepnote_to_be_reexecuted": false,
    "execution_millis": 7,
    "execution_start": 1627765084463,
    "source_hash": "90210989",
    "tags": []
   },
   "outputs": [],
   "source": [
    "def bump_func(x, a=-0.2, b=2.5):\n",
    "    a = -a/(-a+1)\n",
    "    x = (1-a)*x + a\n",
    "    return (x**(-b-1)) / ((1 + x**(-b) * (1 - x)**b)**2 * (-x + 1)**(-b+1))\n",
    "\n",
    "@tf.function\n",
    "def tokenization_transformation(x):\n",
    "    out_zeros = tf.where((x <= 0.) | (x >= 1.), 0., x)\n",
    "    out_smoothstep = tf.where((out_zeros > 0) & (out_zeros < 1), bump_func(out_zeros), out_zeros)\n",
    "    return out_smoothstep"
   ]
  },
  {
   "cell_type": "markdown",
   "metadata": {
    "cell_id": "00046-9523a902-581e-4c73-a400-f8b0b5d8a796",
    "deepnote_cell_type": "markdown",
    "tags": []
   },
   "source": [
    "Now, let's make the tokeniation layer itself:"
   ]
  },
  {
   "cell_type": "code",
   "execution_count": 19,
   "metadata": {
    "cell_id": "00047-bee0a7b1-3738-48d7-bbeb-ddb17fe4f5b2",
    "deepnote_cell_type": "code",
    "deepnote_to_be_reexecuted": false,
    "execution_millis": 21,
    "execution_start": 1627765086566,
    "source_hash": "c10b73ca",
    "tags": []
   },
   "outputs": [],
   "source": [
    "@tf.custom_gradient\n",
    "def tokenization(input_, patterns):\n",
    "    # `upstream` will have shape (batch_size, output_height/num_neurons, output_width/input_width, 1)\n",
    "    #     (you can imagine why output_height would be the same as num_neurons as \"the text is now \n",
    "    #      being represented by `num_neurons` neurons, and each neuron has it's one-hot encoding, \n",
    "    #      thus, height=num_neurons\". \n",
    "    #      We also specifically padded output_width to be the same as input_width in forward \n",
    "    #      propagation).\n",
    "    def grad(upstream):\n",
    "        # The first thing we need to do in backprop is make upstream to be as if it was\n",
    "        # made using just a convolution operation (in forward prop). So, we remove the padding\n",
    "        # we added in forward prop and transpose the dimensions a bit\n",
    "        amount_not_padding = tf.shape(upstream)[2] - tf.shape(patterns)[1] + 1\n",
    "        upstream = upstream[:, :, :amount_not_padding]\n",
    "        upstream = tf.transpose(upstream, [0, 3, 2, 1])\n",
    "        # Then, we need to get the gradients w.r.t. `input_` and `patterns`, pretending that forward\n",
    "        # prop was just a convolution of `patterns` on `input`.\n",
    "        with tf.GradientTape() as tape:\n",
    "            tape.watch(input_)\n",
    "            tape.watch(patterns)\n",
    "            z = tf.nn.convolution(input_, patterns) * upstream # Note how we multiply (element-wise)\n",
    "            # with `upstream`!\n",
    "        grads = tape.gradient(z, [input_, patterns])\n",
    "        # Finally, we return the gradients (remembering to multiply the patterns' gradients \n",
    "        # element-wise with sigma(x)).\n",
    "        return grads[0], grads[1]*tokenization_transformation(patterns)\n",
    "    \n",
    "    # The `patterns` parameter is just arbritrary numbers. We want `patterns` to be able to match\n",
    "    # the text. For that each column must contain one \"1\" and the rest be zeros\n",
    "    # (one-hot encoding), to make that we take the maximum value in each column and say that's\n",
    "    # the \"1\". We would also like there to be columns that are ignored. Those columns would be\n",
    "    # filled with just zeros. To do that, we say that if the sum of all the values in a column\n",
    "    # is less than (or equal to) 0, that column if filled with just zero.\n",
    "    patterns_discrete = tf.cast(tf.math.logical_and(\n",
    "        patterns == tf.expand_dims(tf.reduce_max(patterns, axis=0), 0),\n",
    "        tf.reduce_sum(patterns, axis=0) > 0\n",
    "    ), tf.float32)\n",
    "    # Convolve the input with patterns_discrete\n",
    "    convolution = tf.nn.convolution(input_, patterns_discrete)\n",
    "    # Pad convolution to be the same length as `input_`\n",
    "    padding = tf.zeros([tf.shape(convolution)[0], tf.shape(convolution)[1], \n",
    "                        tf.shape(input_)[2]-tf.shape(convolution)[2], tf.shape(convolution)[3]])\n",
    "    convolution = tf.concat([convolution, padding], axis=2)\n",
    "    # Get the sums of all the different patterns respectively (this is so we\n",
    "    #  can find where in the text/s the pattern/s made a full match).\n",
    "    pattern_sums = tf.reduce_sum(patterns_discrete, axis=[0, 1])\n",
    "\n",
    "    # This function will take in one instance in the batch at a time\n",
    "    def transform_convolution(t):\n",
    "        return tf.transpose(tf.cast(tf.squeeze(t) == pattern_sums, tf.float32))\n",
    "    # Map `transform_convolution` over every instance in the batch\n",
    "    final = tf.map_fn(transform_convolution, convolution)\n",
    "    # Append an extra \"1\" in the shape (to be more like the input) and return\n",
    "    return tf.expand_dims(final, 3), grad\n",
    "\n",
    "class TokenizationLayer(keras.layers.Layer):\n",
    "    def __init__(self, n_neurons, possible_pattern_lens=[5, 6, 7, 8, 9, 10, 11, 12, 13], filter_over=1, **kwargs):\n",
    "        super().__init__(**kwargs)\n",
    "\n",
    "        self.n_neurons = n_neurons\n",
    "        self.possible_pattern_lens = possible_pattern_lens\n",
    "        self.filter_over = filter_over\n",
    "    \n",
    "    def build(self, input_shape):\n",
    "        # Initialize parameters of TokenizationLayer\n",
    "        self.patterns = self.add_weight(\"patterns\", shape=[input_shape[1], max(self.possible_pattern_lens), 1, self.n_neurons],\n",
    "                                        initializer=PatternsInitilizerMaxCover(self.possible_pattern_lens, filter_over=self.filter_over))\n",
    "        super().build(input_shape)\n",
    "\n",
    "    def call(self, input_):\n",
    "        return tokenization(input_, self.patterns)\n",
    "    \n",
    "    def compute_output_shape(self, input_shape):\n",
    "        return tf.TensorShape(input_shape.as_list()[0]+[self.n_neurons]+input_shape.as_list()[2]+[1])\n",
    "    def get_config(self):\n",
    "        base_config = super().get_config()\n",
    "        return {**base_config, \"n_neurons\":self.n_neurons, \"possible_pattern_lens\":self.possible_pattern_lens,\n",
    "                \"filter_over\":self.filter_over}"
   ]
  },
  {
   "cell_type": "markdown",
   "metadata": {
    "cell_id": "00048-6b711246-583b-4cc7-a4db-94ef9732a9e8",
    "deepnote_cell_type": "markdown",
    "tags": []
   },
   "source": [
    "Okay, we have a tokenization layer! Now we just need to make the accompanying model.<br>\n",
    "In the model, we would like to use the `keras.layers.Embedding` layer to encode discrete values into vectors of (learnable) continuous values, however it only works as the *first* layer in a model, but we want the first layer to be the tokenization layer! So, I made a custom Embedding layer:<br> \n",
    "*for more on embeddings, I made a thing [here](http://legoboy7.pythonanywhere.com/nlp_embeddings). Note it's not too polished (I made it for myself).*"
   ]
  },
  {
   "cell_type": "code",
   "execution_count": 20,
   "metadata": {
    "cell_id": "00048-cf3db89f-4bb6-43a0-81eb-a0e0c004ccbe",
    "deepnote_cell_type": "code",
    "deepnote_to_be_reexecuted": false,
    "execution_millis": 1,
    "execution_start": 1627765088495,
    "source_hash": "44d3a859",
    "tags": []
   },
   "outputs": [],
   "source": [
    "class MyEmbedding(keras.layers.Layer):\n",
    "    \"\"\"\n",
    "    Takes in matrix of discrete values (one-hot encoded) and embeds them into \n",
    "    continuous values, trained like the rest of the network.\n",
    "    Shape of `X` should be `(batch_size, sequence_length, onehot_categories)`\n",
    "    \"\"\"\n",
    "    def __init__(self, embedding_length, **kwargs):\n",
    "        super().__init__(**kwargs)\n",
    "        self.embedding_length = embedding_length\n",
    "    \n",
    "    # input_shape = (batch_size, sequence_length, num_unique_vals)\n",
    "    def build(self, input_shape):\n",
    "        self.embedding_matrix = self.add_weight(name=\"embedding_matrix\", \n",
    "                                                shape=[input_shape[2], self.embedding_length],\n",
    "                                                initializer=\"glorot_uniform\")\n",
    "        super().build(input_shape)\n",
    "    \n",
    "    def call(self, X):\n",
    "        return tf.matmul(X, self.embedding_matrix)\n",
    "    \n",
    "    def compute_output_shape(self, input_shape):\n",
    "        return tf.TensorShape(input_shape.as_list()[:-1] + [self.embedding_length])\n",
    "    \n",
    "    def get_config(self):\n",
    "        base_config = super().get_config()\n",
    "        return {**base_config, \"embedding_length\": self.embedding_length}"
   ]
  },
  {
   "cell_type": "markdown",
   "metadata": {
    "cell_id": "00050-f15229d9-77c0-4623-a87c-a75fffedda33",
    "deepnote_cell_type": "markdown",
    "tags": []
   },
   "source": [
    "Now for the model itself:"
   ]
  },
  {
   "cell_type": "code",
   "execution_count": 21,
   "metadata": {
    "cell_id": "00050-2e8aa691-aa75-4213-8d45-9f7080f48709",
    "deepnote_cell_type": "code",
    "deepnote_to_be_reexecuted": false,
    "execution_millis": 15,
    "execution_start": 1627765091188,
    "source_hash": "21d66dba",
    "tags": []
   },
   "outputs": [],
   "source": [
    "class ModelTokenization(tf.keras.Model):\n",
    "    def __init__(self):\n",
    "        super(ModelTokenization, self).__init__(name='')\n",
    "        \n",
    "        self.tokenization = TokenizationLayer(n_neurons=500)\n",
    "        self.lambda1 = keras.layers.Lambda(lambda x: tf.transpose(tf.squeeze(x, 3), [0, 2, 1]))\n",
    "        self.embedding = MyEmbedding(1)\n",
    "        self.flatten = keras.layers.Flatten()\n",
    "\n",
    "        self.batch_norm1 = keras.layers.BatchNormalization()\n",
    "        self.dense = keras.layers.Dense(64)\n",
    "        self.out = keras.layers.Dense(1, activation=\"sigmoid\")\n",
    "\n",
    "    def call(self, input_tensor, return_intermediates=False, training=False):\n",
    "        tokenization_out = self.tokenization(input_tensor, training=training)\n",
    "        lambda1_out = self.lambda1(tokenization_out, training=training)\n",
    "        embedding_out = self.embedding(lambda1_out, training=training)\n",
    "        flatten_out = self.flatten(embedding_out)\n",
    "\n",
    "        batch_norm1_out = self.batch_norm1(flatten_out, training=training)\n",
    "        dense_out = self.dense(batch_norm1_out, training=training)\n",
    "        out = self.out(dense_out, training=training)\n",
    "\n",
    "        if return_intermediates:\n",
    "            return out, dense_out, flatten_out, embedding_out, lambda1_out, tokenization_out\n",
    "        else:\n",
    "            return out"
   ]
  },
  {
   "cell_type": "code",
   "execution_count": 22,
   "metadata": {
    "cell_id": "00052-f311b14c-d90f-4410-8889-3d44e09fd0d0",
    "deepnote_cell_type": "code",
    "deepnote_to_be_reexecuted": false,
    "execution_millis": 52685,
    "execution_start": 1626461029761,
    "source_hash": "1443f24c",
    "tags": []
   },
   "outputs": [
    {
     "name": "stdout",
     "output_type": "stream",
     "text": [
      "Model: \"model_tokenization\"\n",
      "_________________________________________________________________\n",
      "Layer (type)                 Output Shape              Param #   \n",
      "=================================================================\n",
      "tokenization_layer (Tokeniza multiple                  195000    \n",
      "_________________________________________________________________\n",
      "lambda (Lambda)              multiple                  0         \n",
      "_________________________________________________________________\n",
      "my_embedding (MyEmbedding)   multiple                  500       \n",
      "_________________________________________________________________\n",
      "flatten (Flatten)            multiple                  0         \n",
      "_________________________________________________________________\n",
      "batch_normalization (BatchNo multiple                  8000      \n",
      "_________________________________________________________________\n",
      "dense (Dense)                multiple                  128064    \n",
      "_________________________________________________________________\n",
      "dense_1 (Dense)              multiple                  65        \n",
      "=================================================================\n",
      "Total params: 331,629\n",
      "Trainable params: 327,629\n",
      "Non-trainable params: 4,000\n",
      "_________________________________________________________________\n"
     ]
    }
   ],
   "source": [
    "model = ModelTokenization()\n",
    "_ = model(tf.zeros([32, 30, 2000, 1]))\n",
    "model.summary()"
   ]
  },
  {
   "cell_type": "markdown",
   "metadata": {
    "cell_id": "00062-93966e95-5006-47ad-8173-e10c9304a234",
    "deepnote_cell_type": "markdown",
    "tags": []
   },
   "source": [
    "Finally, let's make the training loop:"
   ]
  },
  {
   "cell_type": "code",
   "execution_count": 23,
   "metadata": {
    "cell_id": "00063-8444d687-b0da-47a2-87b5-4d5e536d0da4",
    "deepnote_cell_type": "code",
    "tags": []
   },
   "outputs": [],
   "source": [
    "optimizer = keras.optimizers.Adam()\n",
    "loss_fn = keras.losses.BinaryCrossentropy()\n",
    "train_acc_metric = keras.metrics.Accuracy()\n",
    "val_acc_metric = keras.metrics.Accuracy()"
   ]
  },
  {
   "cell_type": "code",
   "execution_count": 24,
   "metadata": {
    "cell_id": "00065-4bddcd88-0e38-4b11-8560-fa351cf4f7b4",
    "deepnote_cell_type": "code",
    "tags": []
   },
   "outputs": [],
   "source": [
    "path = \"model_checkpoints/\""
   ]
  },
  {
   "cell_type": "code",
   "execution_count": 25,
   "metadata": {
    "cell_id": "00064-08095b3a-790f-4b4b-8bb5-2f8ed672f5bd",
    "deepnote_cell_type": "code",
    "tags": []
   },
   "outputs": [],
   "source": [
    "with open(path+\"patterns_log.txt\", \"a+\") as f:\n",
    "    pass\n",
    "with open(path+\"grads_log.csv\", \"a+\") as f:\n",
    "    f.write(\"Out Mean,Out Std,Dense Mean,Dense Std,Embedding Mean,Embedding Std,Tokenization Mean,\"+\\\n",
    "            \"Tokenization Std,Out Kernel Mean,Out Kernel Std,Out Bias Mean,Out Bias Std,\"+\\\n",
    "            \"Dense Kernel Mean,Dense Kernel Std,Dense Bias Mean,Dense Bias Std,\"+\\\n",
    "            \"Embedding Kernel Mean,Embedding Kernel Std,Patterns Mean,Patterns Std,\\n\")\n",
    "with open(path+\"vals_log.csv\", \"a+\") as f:\n",
    "    f.write(\"Out Mean,Out Std,Dense Mean,Dense Std,Embedding Mean,Embedding Std,Tokenization Mean,\"+\\\n",
    "            \"Tokenization Std,Out Kernel Mean,Out Kernel Std,Out Bias Mean,Out Bias Std,\"+\\\n",
    "            \"Dense Kernel Mean,Dense Kernel Std,Dense Bias Mean,Dense Bias Std,\"+\\\n",
    "            \"Embedding Kernel Mean,Embedding Kernel Std,Patterns Mean,Patterns Std,\\n\")"
   ]
  },
  {
   "cell_type": "code",
   "execution_count": null,
   "metadata": {
    "cell_id": "00065-060dfbba-60cf-439a-a836-cf94063ed1db",
    "deepnote_cell_type": "code",
    "tags": []
   },
   "outputs": [],
   "source": [
    "epochs = 10\n",
    "for epoch in range(epochs):\n",
    "    train_loss_rounded, train_acc_rounded = 0, 0\n",
    "    for step, (x_batch_train, y_batch_train) in enumerate(train_set):\n",
    "        # -=-= COMPUTE GRADIENTS OF BATCH  =-=-\n",
    "        with tf.GradientTape() as tape:\n",
    "            z, dense_out, flatten_out, embedding_out, lambda1_out, tokenization_out = model(x_batch_train, return_intermediates=True, training=True)\n",
    "            z = tf.squeeze(z, 1)\n",
    "            loss = loss_fn(y_batch_train, z)\n",
    "        layer_vals = [z, dense_out, embedding_out, tokenization_out]\n",
    "        grads = tape.gradient(loss, layer_vals+model.trainable_variables)\n",
    "        layer_grads = grads[:len(layer_vals)]\n",
    "        grads = grads[len(layer_vals):]\n",
    "        \n",
    "        # -=-= LOG INGO  =-=-\n",
    "        progress_bar_done = \"\".join([\"█\" for _ in range(round( step*20/len(train_set) ))])\n",
    "        progress_bar_left = \"\".join([\" \" for _ in range(20-round( step*20/len(train_set) ))])\n",
    "        percent_done = round(step*100/len(train_set), 2)\n",
    "\n",
    "        save_patterns = False\n",
    "        if step%10 == 0:\n",
    "            save_patterns = True\n",
    "            # Decode patterns\n",
    "            patterns = model.tokenization.patterns\n",
    "            patterns = tf.cast(tf.math.logical_and(\n",
    "                patterns == tf.expand_dims(tf.reduce_max(patterns, axis=0), 0),\n",
    "                tf.reduce_sum(patterns, axis=0) > 0\n",
    "            ), tf.float32)\n",
    "            patterns_decoded = [reverse_text(pattern).numpy().decode() for pattern in tf.transpose(tf.squeeze(patterns, 2), [2, 0, 1])]\n",
    "            # Get patterns to log\n",
    "            pattern_grads = tf.transpose(tf.squeeze(grads[0], 2), [2, 0, 1])\n",
    "            pattern_grads_summary = tf.math.reduce_std(pattern_grads, axis=[1, 2])+tf.abs(tf.reduce_mean(pattern_grads, axis=[1, 2]))\n",
    "            pattern_grads_sorted_indexes = list(pd.Series(pattern_grads_summary).sort_values().keys())\n",
    "\n",
    "        clear_output(wait=True)\n",
    "        print(f'Epoch {epoch+1}/{epochs} - |{progress_bar_done}{progress_bar_left}| - {percent_done}% - {step+1}/{len(train_set)}')\n",
    "        print(f'Train loss: {train_loss_rounded} - Train accuracy: {train_acc_rounded}')\n",
    "        print()\n",
    "        # Log patterns\n",
    "        top_n = 15\n",
    "        buffer = \"\".join(\"0\" for _ in range(7))\n",
    "\n",
    "        patterns_log_high = [f'\"{patterns_decoded[i]}\": '+(str(pattern_grads_summary[i].numpy()*100)+buffer)[:7]+\" | \" \n",
    "                             for i in pattern_grads_sorted_indexes[-top_n:]]\n",
    "        num_per_row = int(np.floor(135/len(patterns_log_high[0])))\n",
    "        print(f\"{color.BOLD}Patterns with diverse non-zero gradients{color.END}\")\n",
    "        for i in range(int(np.floor(len(patterns_log_high)/num_per_row))):\n",
    "            print(\"\".join(patterns_log_high[(i)*num_per_row:(i+1)*num_per_row]))\n",
    "        if len(patterns_log_high)%num_per_row != 0:\n",
    "            print(\"\".join(patterns_log_high[-(int(np.floor(len(patterns_log_high)/num_per_row))*num_per_row)+1:]))\n",
    "\n",
    "        patterns_log_low = [f'\"{patterns_decoded[i]}\": '+(str(pattern_grads_summary[i].numpy()*100)+buffer)[:7]+\" | \" \n",
    "                             for i in pattern_grads_sorted_indexes[:top_n]]\n",
    "        num_per_row = int(np.floor(135/len(patterns_log_low[0])))\n",
    "        print(f\"{color.BOLD}Patterns with mostly zero gradients{color.END}\")\n",
    "        for i in range(int(np.floor(len(patterns_log_low)/num_per_row))):\n",
    "            print(\"\".join(patterns_log_low[(i)*num_per_row:(i+1)*num_per_row]))\n",
    "        if len(patterns_log_low)%num_per_row != 0:\n",
    "            print(\"\".join(patterns_log_low[-(int(np.floor(len(patterns_log_low)/num_per_row))*num_per_row)+1:]))\n",
    "\n",
    "        # -=-= UPDATE NETWORK & METRICS  =-=-\n",
    "        optimizer.apply_gradients(zip(grads, model.trainable_variables))\n",
    "        train_acc_metric.update_state(y_batch_train, tf.round(z))\n",
    "        train_loss_rounded, train_acc_rounded = \"%.4f\" % loss.numpy(), \"%.4f\" % train_acc_metric.result().numpy()\n",
    "\n",
    "        # -=-= SAVE THINGS TO DRIVE  =-=-\n",
    "        if (step%int(np.floor(len(train_set)/5))==0) and (step != 0):\n",
    "            cp_num = len(os.listdir(path))-1\n",
    "            model_cp = tf.train.Checkpoint(model=model)\n",
    "            model_cp.write(path+f\"model_cp_{cp_num}/model_checkpoint\")\n",
    "        if save_patterns:\n",
    "            with open(path+\"patterns_log.txt\", \"a+\") as f:\n",
    "                [f.write(f'\"{pattern}\", ') for pattern in patterns_decoded]\n",
    "                f.write(\"\\n\")\n",
    "        with open(path+\"grads_log.csv\", \"a+\") as f:\n",
    "            for layer_index in [0, 1, 2, 3]:\n",
    "                f.write(str( tf.reduce_mean(layer_grads[layer_index]).numpy() )+\",\")\n",
    "                f.write(str( tf.math.reduce_std(tf.reduce_mean(layer_grads[layer_index], axis=0)).numpy() )+\",\")\n",
    "            for param_index in [6, 7, 4, 5, 1, 0]:\n",
    "                f.write(str( tf.reduce_mean(grads[param_index]).numpy() )+\",\")\n",
    "                f.write(str( tf.math.reduce_std(grads[param_index]).numpy() )+\",\")\n",
    "            f.write(\"\\n\")\n",
    "        with open(path+\"vals_log.csv\", \"a+\") as f:\n",
    "            for layer_index in [0, 1, 2, 3]:\n",
    "                f.write(str( tf.reduce_mean(layer_vals[layer_index]).numpy() )+\",\")\n",
    "                f.write(str( tf.math.reduce_std(tf.reduce_mean(layer_vals[layer_index], axis=0)).numpy() )+\",\")\n",
    "            for param_index in [6, 7, 4, 5, 1, 0]:\n",
    "                f.write(str( tf.reduce_mean(model.trainable_variables[param_index]).numpy() )+\",\")\n",
    "                f.write(str( tf.math.reduce_std(model.trainable_variables[param_index]).numpy() )+\",\")\n",
    "            f.write(\"\\n\")\n",
    "\n",
    "    train_acc_metric.reset_states()"
   ]
  },
  {
   "cell_type": "markdown",
   "metadata": {
    "cell_id": "00070-783fa18e-636b-4dc2-9e39-6ac93416e4a4",
    "deepnote_cell_type": "markdown",
    "tags": []
   },
   "source": [
    "Okay! With this we can now train a model using the tokenization layer (I haven't done it here as it *is* pretty expensive, computationally). However..."
   ]
  },
  {
   "cell_type": "markdown",
   "metadata": {
    "cell_id": "00068-2650c9d0-57e3-42fa-9bb1-b85344d1d0f3",
    "deepnote_cell_type": "markdown",
    "tags": []
   },
   "source": [
    "# Wait... But *will* it Work?"
   ]
  },
  {
   "cell_type": "markdown",
   "metadata": {
    "cell_id": "00053-7de97ee0-26be-407a-a0ad-0936d608ca03",
    "deepnote_cell_type": "markdown",
    "tags": []
   },
   "source": [
    "Alright, this is all well and good, but can it actually train? Will it be able to make the right ajustments to the patterns, and will it not get stuck in a bad local minimum? Well, here's how we get the gradients of the patterns:\n"
   ]
  },
  {
   "cell_type": "markdown",
   "metadata": {
    "cell_id": "00054-04cd2363-e465-47ab-b218-662e0a2259cd",
    "deepnote_cell_type": "markdown",
    "tags": []
   },
   "source": [
    "$$\n",
    "\\frac{\\partial C}{\\partial pattern} = text * upstream\n",
    "$$"
   ]
  },
  {
   "cell_type": "markdown",
   "metadata": {
    "cell_id": "00055-68c78b5e-42af-4e6e-a9e6-465916d0cff3",
    "deepnote_cell_type": "markdown",
    "tags": []
   },
   "source": [
    "One worry about this is that the $text$ (and subsequently the $upstream$ because the patterns are going to be comparably small) will be be very big (like `30x2000`). That means that in the convolution between these two (above), each value is going to be the weighted sum of thousands of values. If the distribution of upstream isn't 0, those thousands will add up, and the gradients will become huge. So, we have to be careful that the upstream gradient has a mean of $0$.<br>\n",
    "Luckily in that regard, our embedding layer that comes just after the tokenization layer (where our worries here lie) can act as a sort-of normilization, so it should be fine."
   ]
  },
  {
   "cell_type": "markdown",
   "metadata": {
    "cell_id": "00056-2fd246b8-4fcc-4bfa-821a-7791fbc71eec",
    "deepnote_cell_type": "markdown",
    "tags": []
   },
   "source": [
    "Other than that (which I also have in StackOverflow [here](https://math.stackexchange.com/questions/4190012/backpropagating-convolution-with-big-image-to-train-comparably-small-filter/4190918#4190918) btw), it really is just a regular convolution, so it should be able to make the right ajustments. However, what if the very nature of this task means that it'll just get stuck in a local minima right away? To get closer to the answer, we need some intuition for how the patterns *actually* update:"
   ]
  },
  {
   "cell_type": "markdown",
   "metadata": {
    "cell_id": "00057-f7b2f733-3af3-4c23-a2e2-49ed8c687cf4",
    "deepnote_cell_type": "markdown",
    "tags": []
   },
   "source": [
    "In forward prop, we start with the patterns, which are applied to the input text, with matches then being embedded in an embedding layer and used by the rest of the network, in mysterious ways, to make a prediction.<br>\n",
    "In backprop we start with the (mysterious) final output of the network, and see what we should do to minimize the margin of error from the real value (e.g. for predicting movie review sentiments, we predict 0.4, when in truth it was 1, and so we should *increase* the value 0.4, so that it's closer to 1). Then, we distribute this \"what-to-do\" to the output of the layer before, asking how we should change these values to minimize error. It's like saying \"Okay, so to minimize error we should change this layer's output like this, and to do that we should change the previous layer's output like that\" and so on.<br>\n",
    "Eventually, we get back to the output of the tokenization layer, where we now know how to change each of the output values in order to minimize the error. From this we can update the patterns, which all have the way in which to change their output of them on the input text respectively. Using this and the input text itself, it updates the patterns.<br>\n",
    "That means, the patterns change so that the way in which the rest of the network uses said patterns to make predictions is \"less wrong\". It's trying to change the patterns so that the output of the tokenization layer follows the \"what-to-do\" to minimize error (illustrated in the example below).<br>\n",
    "So really, it depends on how the network is using the token *now*, and how that part of the network would like to see the token to appear elsewhere in the text (thus changing it)."
   ]
  },
  {
   "cell_type": "markdown",
   "metadata": {
    "cell_id": "00072-049aff5c-e381-47a5-870b-bb101c8fad1a",
    "deepnote_cell_type": "markdown",
    "tags": []
   },
   "source": [
    "***"
   ]
  },
  {
   "cell_type": "markdown",
   "metadata": {
    "cell_id": "00058-34516f5f-0351-42e1-85ff-cd195db05093",
    "deepnote_cell_type": "markdown",
    "tags": []
   },
   "source": [
    "For example, if we have following input text and pattern:\n",
    "$$\n",
    "\\text{text} = \\begin{bmatrix}\n",
    "1&0&0&1&0&0&0&1&0 \\\\\n",
    "0&0&1&0&0&0&0&0&1 \\\\\n",
    "0&0&0&0&0&0&1&0&0 \\\\\n",
    "0&0&0&0&1&0&0&0&0 \\\\\n",
    "0&1&0&0&0&1&0&0&0\n",
    "\\end{bmatrix}, \\text{ pattern} = \\begin{bmatrix}\n",
    "0 & 1 & 1 \\\\\n",
    "1 & 0 & 0 \\\\\n",
    "0 & 0 & 0 \\\\\n",
    "0 & 0 & 0 \\\\\n",
    "0 & 0 & 0\n",
    "\\end{bmatrix}\n",
    "$$\n",
    "\n",
    "Then this would be the resulting convolution of the two (which as we know is the \"sort-of\" forward prop):\n",
    "\n",
    "$$\n",
    "\\text{text} * \\text{pattern} = \\begin{bmatrix}\n",
    "0 & 1 & 2 & 0 & 0 & 1 & 1\n",
    "\\end{bmatrix}\n",
    "$$\n",
    "\n",
    "<br>\n",
    "Now, let's say that in backprop, it finds that for the rest of the network to have less error, here is how the tokenization layer's output should change (i.e. the gradient of cost w.r.t. the tokenization layer's output):\n",
    "\n",
    "$$\n",
    "\\text{upstream} = \\begin{bmatrix}-0.1 & -0.5 & 0.9 & 0.0 & 0.0 & -0.2 & -0.1 \\end{bmatrix}\n",
    "$$\n",
    "Now, with this we can find how to change $\\text{pattern}$ in order to minimize error (i.e. $\\partial C / \\partial \\text{pattern}$):\n",
    "\n",
    "$$\n",
    "\\text{text} * \\text{upstream} = \\begin{bmatrix}\n",
    "-0.1 & 0.8  & -0.7 \\\\\n",
    "0.9  & -0.5 & -0.2 \\\\\n",
    "-0.1 & -0.2 & 0.0  \\\\\n",
    "0.0  & 0.0  & 0.9  \\\\\n",
    "-0.7 & -0.1 & 0.0  \\\\\n",
    "\\end{bmatrix}\n",
    "$$\n",
    "\n",
    "You can see how this would be trying to change $\\text{pattern}$ to be more like the pattern below, which makes sense, because in forward prop the pattern below gets a full match where there's a $0.9$ in $\\text{upstream}$.\n",
    "$$\n",
    "\\text{text} * \\begin{bmatrix}\n",
    "0 & 1 & 0 \\\\\n",
    "1 & 0 & 0 \\\\\n",
    "0 & 0 & 0 \\\\\n",
    "0 & 0 & 1 \\\\\n",
    "0 & 0 & 0 \\\\\n",
    "\\end{bmatrix} = \\begin{bmatrix} 0 & 0 & 3 & 0 & 0 & 0 & 1 \\end{bmatrix}\n",
    "$$"
   ]
  },
  {
   "cell_type": "markdown",
   "metadata": {
    "cell_id": "00074-710dd1a7-7bd5-4e63-9398-3cdcd647f2b6",
    "deepnote_cell_type": "markdown",
    "tags": []
   },
   "source": [
    "***"
   ]
  },
  {
   "cell_type": "markdown",
   "metadata": {
    "cell_id": "00075-18cd22e0-2292-441b-96bc-ac6265a018d7",
    "deepnote_cell_type": "markdown",
    "tags": []
   },
   "source": [
    "Here then, is the (sad) conclusion to if it'll be able to train:<br>\n",
    "It is very hard for a token to output anything. Most possible tokens will never appear in a text, and changing even one letter of a token that *does* work can completely ruin it.<br>\n",
    "When the network encounters useless tokens, it simply continues trying to find how to utilize this output to make \"less wrong\" predictions. Eventually it'll converge, and if it does that while the token is *still* useless, the token will start *wanting* to be useless, as that's how network likes it best now. In other words, it gets stuck in a local minima where the token is useless (I've shown this to be the case [here](https://deepnote.com/project/Testing-Uk3lFFe2RcaFLNgo2L1v5w/%2Fmanual-networks.ipynb/)).<br>\n",
    "So, if the token is useless for too long, it'll never recover, but what's to say that a token *will* be useless? Well, while you could use custom initialization strategies to make tokens that *do* appear in the text (as we've done here), when the network will try to change them, they will become useless (all it takes is one letter) while the network tries to make the tokens it *actually* wants. Here also lies the final problem; tokens the network *actually* wants are probably impossible to get... <br>\n",
    "To the network, a token is defined by where it appears in the text, and this is what it's trying to change when it's changing tokens. However, most possible outputs are in fact *impossible* when in practice; there's no possible token that can produce said output.\n",
    "\n",
    "So, as the tokens try to become impossible versions of themselves, they instead become useless tokens, that'll never appear in any text. The rest of the network then *get's used* to the tokens being useless, and get's stuck in a local minima. ***The End.***"
   ]
  },
  {
   "cell_type": "markdown",
   "metadata": {
    "cell_id": "00079-7462a80d-6b16-4bc7-a1fe-576a4b7199fa",
    "deepnote_cell_type": "markdown",
    "tags": []
   },
   "source": [
    "I have tried to train it (using the code above), and this is indeed what happens. So..."
   ]
  },
  {
   "cell_type": "markdown",
   "metadata": {
    "cell_id": "00080-22398924-f24c-4c4b-8eb7-5001b923f07e",
    "deepnote_cell_type": "markdown",
    "tags": []
   },
   "source": [
    "# Conclusion"
   ]
  },
  {
   "cell_type": "markdown",
   "metadata": {
    "cell_id": "00081-7c01d46a-6745-4ee0-a1b9-59fe397a5e33",
    "deepnote_cell_type": "markdown",
    "tags": []
   },
   "source": [
    "In this notebook we came up with the \"tokenization layer\", which is a tokenization algorithm trainable by gradient descent, and is meant to be the first layer in a deep learning model, learning the tokens best for the specific model for the specific task.<br>\n",
    "However, in the end, we couldn't get it to work due to the nature of tokens in general.\n",
    "\n",
    "Here's a couple last-minute things I came up with you could do to try fix this:\n",
    "\n",
    "* Freeze patterns shown in forward propagation to the last pattern that isn't \"useless\" (i.e. never shows up in any text)\n",
    "* Somehow \"approximate\" the upstream gradient at the tokenization layer to be something \"possible\" by a pattern."
   ]
  },
  {
   "cell_type": "markdown",
   "metadata": {
    "cell_id": "00084-2d1ffa52-233c-46f8-84bb-fe77fb02d7c1",
    "deepnote_cell_type": "markdown",
    "tags": []
   },
   "source": [
    "# The End"
   ]
  },
  {
   "cell_type": "markdown",
   "metadata": {
    "cell_id": "00066-182a3c72-3c93-4787-b350-c630b421ac63",
    "deepnote_cell_type": "markdown",
    "tags": []
   },
   "source": [
    "***"
   ]
  },
  {
   "cell_type": "markdown",
   "metadata": {
    "cell_id": "00084-c16d3b27-530e-4fbb-bcf1-85f31e87d297",
    "deepnote_cell_type": "markdown",
    "tags": []
   },
   "source": [
    "*showing how it handles upstream gradients that are impossible for it to do*\n",
    "\n",
    "$$\n",
    "\\text{text} = \\begin{bmatrix}\n",
    "1&0&0&1&0&0&0&1&0 \\\\\n",
    "0&0&1&0&0&0&0&0&1 \\\\\n",
    "0&0&0&0&0&0&1&0&0 \\\\\n",
    "0&0&0&0&1&0&0&0&0 \\\\\n",
    "0&1&0&0&0&1&0&0&0\n",
    "\\end{bmatrix}\n",
    "$$\n",
    "\n",
    "$$\n",
    "\\text{upstream} = \\begin{bmatrix}\n",
    "0.5 & 0.4 & -0.7 & 0. & -0.1 & 0.2 & -0.3\n",
    " \\end{bmatrix}\n",
    "$$\n",
    "<br>\n",
    "\n",
    "$$\n",
    "\\text{text} * \\text{upstream} = \\begin{bmatrix}\n",
    "0.5 & -1.0 & 0.6 \\\\\n",
    "-0.7 & 0.4 & 0.2 \\\\\n",
    "-0.3 & 0.2 & -0.1 \\\\\n",
    "-0.1 & 0.0 & -0.7 \\\\\n",
    "0.6 & 0.4 & 0.0 \\\\\n",
    "\\end{bmatrix}\n",
    "$$\n",
    "\n",
    "*it tries to make*\n",
    "\n",
    "$$\n",
    "\\begin{bmatrix}\n",
    "1 & 0 & 0 \\\\\n",
    "0 & 0 & 1 \\\\\n",
    "0 & 0 & 0 \\\\\n",
    "0 & 0 & 0 \\\\\n",
    "0 & 1 & 0 \\\\\n",
    "\\end{bmatrix} \\text{and} \\begin{bmatrix}\n",
    "0 & 0 & 1 \\\\\n",
    "0 & 1 & 0 \\\\\n",
    "0 & 0 & 0 \\\\\n",
    "0 & 0 & 0 \\\\\n",
    "1 & 0 & 0 \\\\\n",
    "\\end{bmatrix}\n",
    "$$\n",
    "\n",
    "*of course, it's only possible for it to be one or the other, and having them both together is nonsensical.*"
   ]
  }
 ],
 "metadata": {
  "deepnote": {
   "is_reactive": false
  },
  "deepnote_execution_queue": [],
  "deepnote_notebook_id": "a2442cfe-8734-4e21-9377-6ebfa404ec48",
  "kernelspec": {
   "display_name": "Python 3",
   "language": "python",
   "name": "python3"
  },
  "language_info": {
   "codemirror_mode": {
    "name": "ipython",
    "version": 3
   },
   "file_extension": ".py",
   "mimetype": "text/x-python",
   "name": "python",
   "nbconvert_exporter": "python",
   "pygments_lexer": "ipython3",
   "version": "3.8.8"
  }
 },
 "nbformat": 4,
 "nbformat_minor": 4
}
